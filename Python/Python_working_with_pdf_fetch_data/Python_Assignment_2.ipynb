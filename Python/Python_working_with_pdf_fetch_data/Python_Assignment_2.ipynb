{
 "cells": [
  {
   "cell_type": "markdown",
   "metadata": {},
   "source": [
    "# "
   ]
  },
  {
   "cell_type": "markdown",
   "metadata": {},
   "source": [
    "                        ----------      Python Assignment 2     -------------------"
   ]
  },
  {
   "cell_type": "code",
   "execution_count": null,
   "metadata": {},
   "outputs": [],
   "source": [
    "'''\n",
    "Question : Work on the following PDF-related python script task along with your other tasks planned for this week:\n",
    "Download the attached pdf.\n",
    "Install any pdf editor (Master PDF Editor) to see the pdf form fields (if required)\n",
    "Write a Python script to generate a JSON file for the downloaded pdf in the format below:\n",
    "{\n",
    "    \"map\": {\n",
    "        \"document.fieldcount\": \"8\",\n",
    "        \"document.pagecount\": \"1\",\n",
    "        \"Student Name\": \"Akshay Sharma\",\n",
    "        \"Student Address\": \"Noida, UP, India\",\n",
    "        \"Student Email\": \"akshay@email.com\",\n",
    "        \"Student DOB\": \"28/03/1990\",\n",
    "        \"Student Phone\": \"998-787-7654\",\n",
    "        \"Emergency Name\": \"Sanjay Sharma\",\n",
    "        \"Emergency Phone\": \"765-434-3232\",\n",
    "        \"Student Gender\": \"Male\"\n",
    "    }\n",
    "}\n",
    "The final JSON file should be auto-created in the same folder after running the script from the terminal\n",
    "Push the code over GitHub and share the link\n",
    "'''"
   ]
  },
  {
   "cell_type": "code",
   "execution_count": 11,
   "metadata": {},
   "outputs": [
    {
     "name": "stdout",
     "output_type": "stream",
     "text": [
      "{\n",
      "    \"map\": {\n",
      "        \"document.fieldcount\": 8,\n",
      "        \"document.pagecount\": \"1\",\n",
      "        \"Student Name\": \"Akshay Sharma\",\n",
      "        \"Student Address\": \"Noida, UP, India\",\n",
      "        \"Student Email\": \"akshay@email.com\",\n",
      "        \"Student DOB\": \"28/03/1990\",\n",
      "        \"Student Phone\": \"998-787-7654\",\n",
      "        \"Emergency Name\": \"Sanjay Sharma\",\n",
      "        \"Emergency Phone\": \"765-434-3232\",\n",
      "        \"Student Gender\": \"Male\"\n",
      "    }\n",
      "}\n"
     ]
    }
   ],
   "source": [
    "# Import PyPDF2 module\n",
    "import PyPDF2 as pypdf\n",
    "# Import Json module\n",
    "import json\n",
    "\n",
    "# Opened Pdf\n",
    "pdfobject=open(\"Enrollment_Form_filled.pdf\",'rb')\n",
    "\n",
    "# Creating Pdf Object\n",
    "pdfReader = PyPDF2.PdfFileReader(pdfobject)\n",
    "\n",
    "# Fetching Data From PDF\n",
    "pdf=pypdf.PdfFileReader(pdfobject)\n",
    "all_field_dict = pdf.getFormTextFields()\n",
    "\n",
    "# Dictionary size or no of fields\n",
    "dict_size = len(all_field_dict)\n",
    "\n",
    "# Making Dictionary\n",
    "new_dict={}\n",
    "new_dict[\"document.fieldcount\"]=dict_size\n",
    "new_dict[\"document.pagecount\"]=str(pdfReader.numPages)\n",
    "new_dict.update(all_field_dict)\n",
    "\n",
    "# Binding Dictionary\n",
    "final_dict={\"map\":new_dict}\n",
    "\n",
    "# Serializing json \n",
    "json_object = json.dumps(final_dict, indent = 4)\n",
    "\n",
    "# Printing final result\n",
    "print(json_object)  \n",
    "\n",
    "# Json result is in \"result.json\"\n",
    "with open(\"result.json\", \"w\") as outfile:\n",
    "    outfile.write(json_object)"
   ]
  },
  {
   "cell_type": "code",
   "execution_count": null,
   "metadata": {},
   "outputs": [],
   "source": []
  }
 ],
 "metadata": {
  "interpreter": {
   "hash": "916dbcbb3f70747c44a77c7bcd40155683ae19c65e1c03b4aa3499c5328201f1"
  },
  "kernelspec": {
   "display_name": "Python 3.8.10 64-bit",
   "language": "python",
   "name": "python3"
  },
  "language_info": {
   "codemirror_mode": {
    "name": "ipython",
    "version": 3
   },
   "file_extension": ".py",
   "mimetype": "text/x-python",
   "name": "python",
   "nbconvert_exporter": "python",
   "pygments_lexer": "ipython3",
   "version": "3.8.12"
  },
  "orig_nbformat": 4
 },
 "nbformat": 4,
 "nbformat_minor": 2
}
