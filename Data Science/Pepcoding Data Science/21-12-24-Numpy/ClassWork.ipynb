{
  "cells": [
    {
      "cell_type": "markdown",
      "metadata": {
        "colab_type": "text",
        "id": "view-in-github"
      },
      "source": [
        "<a href=\"https://colab.research.google.com/github/aman5898/Data-Science-December/blob/main/numpy/ClassWork.ipynb\" target=\"_parent\"><img src=\"https://colab.research.google.com/assets/colab-badge.svg\" alt=\"Open In Colab\"/></a>"
      ]
    },
    {
      "cell_type": "code",
      "execution_count": 1,
      "metadata": {
        "id": "qiQwPFeI-2RX"
      },
      "outputs": [],
      "source": [
        "import numpy as np"
      ]
    },
    {
      "cell_type": "code",
      "execution_count": null,
      "metadata": {
        "colab": {
          "base_uri": "https://localhost:8080/"
        },
        "id": "3I7hoBruBrm8",
        "outputId": "4977282e-710e-481c-ad94-bd336a145f48"
      },
      "outputs": [
        {
          "data": {
            "text/plain": [
              "array([1, 2, 3, 4, 5])"
            ]
          },
          "execution_count": 3,
          "metadata": {},
          "output_type": "execute_result"
        }
      ],
      "source": [
        "ar = np.array([1,2,3,4,5])\n",
        "ar"
      ]
    },
    {
      "cell_type": "code",
      "execution_count": null,
      "metadata": {
        "colab": {
          "base_uri": "https://localhost:8080/"
        },
        "id": "nrO9kbC6B18r",
        "outputId": "fa8894d6-315c-4db3-e5a6-b8f3cabeddd4"
      },
      "outputs": [
        {
          "name": "stdout",
          "output_type": "stream",
          "text": [
            "<class 'numpy.ndarray'>\n",
            "1\n"
          ]
        }
      ],
      "source": [
        "print(type(ar))\n",
        "print(ar.ndim)"
      ]
    },
    {
      "cell_type": "code",
      "execution_count": null,
      "metadata": {
        "colab": {
          "base_uri": "https://localhost:8080/"
        },
        "id": "QPovDrsnB_6B",
        "outputId": "4f46b13e-a963-4687-c036-24adc27b236b"
      },
      "outputs": [
        {
          "data": {
            "text/plain": [
              "5"
            ]
          },
          "execution_count": 6,
          "metadata": {},
          "output_type": "execute_result"
        }
      ],
      "source": [
        "ar.size"
      ]
    },
    {
      "cell_type": "code",
      "execution_count": null,
      "metadata": {
        "colab": {
          "base_uri": "https://localhost:8080/"
        },
        "id": "_dqmDmxUCEAh",
        "outputId": "46e0aefe-136b-41e9-9e3f-31f95d0b57d6"
      },
      "outputs": [
        {
          "data": {
            "text/plain": [
              "dtype('int64')"
            ]
          },
          "execution_count": 7,
          "metadata": {},
          "output_type": "execute_result"
        }
      ],
      "source": [
        "ar.dtype"
      ]
    },
    {
      "cell_type": "code",
      "execution_count": null,
      "metadata": {
        "id": "Pw423Z_9CL1O"
      },
      "outputs": [],
      "source": [
        "ar = np.array([1,2,3,4,5], dtype='uint8')"
      ]
    },
    {
      "cell_type": "code",
      "execution_count": null,
      "metadata": {
        "colab": {
          "base_uri": "https://localhost:8080/"
        },
        "id": "szP6fPHHCl8v",
        "outputId": "8f0d859f-5518-4545-f9a2-7914538f27a7"
      },
      "outputs": [
        {
          "data": {
            "text/plain": [
              "dtype('float64')"
            ]
          },
          "execution_count": 21,
          "metadata": {},
          "output_type": "execute_result"
        }
      ],
      "source": [
        "np.array([1,2,3,4,5, 6.9]).dtype"
      ]
    },
    {
      "cell_type": "markdown",
      "metadata": {
        "id": "ogD6Q43bDx3R"
      },
      "source": [
        "**Time**"
      ]
    },
    {
      "cell_type": "code",
      "execution_count": null,
      "metadata": {
        "colab": {
          "base_uri": "https://localhost:8080/"
        },
        "id": "zm3dPdQpDUyl",
        "outputId": "0e3063c6-e855-49ef-a07d-a9d9909ccdea"
      },
      "outputs": [
        {
          "name": "stdout",
          "output_type": "stream",
          "text": [
            "10000\n"
          ]
        }
      ],
      "source": [
        "l = [1]*10000\n",
        "print(len(l))"
      ]
    },
    {
      "cell_type": "code",
      "execution_count": null,
      "metadata": {
        "colab": {
          "base_uri": "https://localhost:8080/"
        },
        "id": "IQqjUrF7D6yN",
        "outputId": "ce6adbb4-a3f7-4bd7-8c80-bcd1a51c52dd"
      },
      "outputs": [
        {
          "data": {
            "text/plain": [
              "array([1, 1, 1, ..., 1, 1, 1], dtype=int8)"
            ]
          },
          "execution_count": 33,
          "metadata": {},
          "output_type": "execute_result"
        }
      ],
      "source": [
        "ar = np.ones(10000, dtype='int8')\n",
        "ar"
      ]
    },
    {
      "cell_type": "code",
      "execution_count": null,
      "metadata": {
        "colab": {
          "base_uri": "https://localhost:8080/"
        },
        "id": "2pjlU9vLECy4",
        "outputId": "36f92ede-b745-4c3c-9259-ed4c51f8af03"
      },
      "outputs": [
        {
          "name": "stdout",
          "output_type": "stream",
          "text": [
            "10000 loops, best of 5: 76.1 µs per loop\n"
          ]
        }
      ],
      "source": [
        "%timeit sum(l)"
      ]
    },
    {
      "cell_type": "code",
      "execution_count": null,
      "metadata": {
        "colab": {
          "base_uri": "https://localhost:8080/"
        },
        "id": "1m-LQRm6EHwO",
        "outputId": "92ac7de7-7280-457e-c67f-4a7556f1cdcc"
      },
      "outputs": [
        {
          "name": "stdout",
          "output_type": "stream",
          "text": [
            "The slowest run took 19.24 times longer than the fastest. This could mean that an intermediate result is being cached.\n",
            "100000 loops, best of 5: 13 µs per loop\n"
          ]
        }
      ],
      "source": [
        "%timeit ar.sum()"
      ]
    },
    {
      "cell_type": "code",
      "execution_count": null,
      "metadata": {
        "colab": {
          "base_uri": "https://localhost:8080/"
        },
        "id": "kiY721PzEOcg",
        "outputId": "3179c156-f731-43ad-8677-ca2c6d6d069c"
      },
      "outputs": [
        {
          "name": "stdout",
          "output_type": "stream",
          "text": [
            "100 loops, best of 5: 2.42 ms per loop\n"
          ]
        }
      ],
      "source": [
        "%timeit sum(ar)"
      ]
    },
    {
      "cell_type": "code",
      "execution_count": null,
      "metadata": {
        "colab": {
          "base_uri": "https://localhost:8080/"
        },
        "id": "XMqNxa-4Ei4N",
        "outputId": "bce43f93-aba6-4d14-da31-436a4303a76e"
      },
      "outputs": [
        {
          "name": "stdout",
          "output_type": "stream",
          "text": [
            "The slowest run took 5.55 times longer than the fastest. This could mean that an intermediate result is being cached.\n",
            "100000 loops, best of 5: 13 µs per loop\n"
          ]
        }
      ],
      "source": [
        "%timeit ar.sum()"
      ]
    },
    {
      "cell_type": "markdown",
      "metadata": {
        "id": "s55VbcDiF-3M"
      },
      "source": [
        "# Creating Scratch\n",
        "\n",
        "\n",
        "\n",
        "*   ones\n",
        "*   zeros\n",
        "*   arange"
      ]
    },
    {
      "cell_type": "code",
      "execution_count": null,
      "metadata": {
        "colab": {
          "base_uri": "https://localhost:8080/"
        },
        "id": "b05-YJ7XEnJ6",
        "outputId": "7da075f5-1982-4c4c-c17e-0c8db4bb75dc"
      },
      "outputs": [
        {
          "data": {
            "text/plain": [
              "array([1, 1, 1, 1, 1, 1, 1, 1, 1], dtype=int32)"
            ]
          },
          "execution_count": 42,
          "metadata": {},
          "output_type": "execute_result"
        }
      ],
      "source": [
        "np.ones(9, dtype='int32')"
      ]
    },
    {
      "cell_type": "code",
      "execution_count": null,
      "metadata": {
        "colab": {
          "base_uri": "https://localhost:8080/"
        },
        "id": "A_P1s0gqGHpd",
        "outputId": "0f4e4494-5100-4d2c-ec41-f95eebe8c5d5"
      },
      "outputs": [
        {
          "data": {
            "text/plain": [
              "array([[0, 0],\n",
              "       [0, 0],\n",
              "       [0, 0],\n",
              "       [0, 0],\n",
              "       [0, 0]], dtype=int32)"
            ]
          },
          "execution_count": 55,
          "metadata": {},
          "output_type": "execute_result"
        }
      ],
      "source": [
        "np.zeros((5, 2), dtype='int32')"
      ]
    },
    {
      "cell_type": "code",
      "execution_count": null,
      "metadata": {
        "colab": {
          "base_uri": "https://localhost:8080/"
        },
        "id": "_ICyG2qNGZo7",
        "outputId": "7a24cb4c-985d-4467-99fa-f84b9966c263"
      },
      "outputs": [
        {
          "data": {
            "text/plain": [
              "array([9, 7, 5, 3])"
            ]
          },
          "execution_count": 56,
          "metadata": {},
          "output_type": "execute_result"
        }
      ],
      "source": [
        "np.arange(9, 2, -2)"
      ]
    },
    {
      "cell_type": "code",
      "execution_count": null,
      "metadata": {
        "colab": {
          "base_uri": "https://localhost:8080/"
        },
        "id": "cgOiHwsgG8jn",
        "outputId": "05fd1ce4-4352-4871-d33c-f75139d19694"
      },
      "outputs": [
        {
          "data": {
            "text/plain": [
              "(2, 3, 4)"
            ]
          },
          "execution_count": 59,
          "metadata": {},
          "output_type": "execute_result"
        }
      ],
      "source": [
        "np.ones((2,3,4)).shape"
      ]
    },
    {
      "cell_type": "markdown",
      "metadata": {
        "id": "zqiWr8z_HRPG"
      },
      "source": [
        "# Slicing\n",
        "\n",
        "same as of python  [start: end: step]\n",
        "\n",
        "numpy slicing is shallow copy\n",
        "python does deep copy"
      ]
    },
    {
      "cell_type": "code",
      "execution_count": null,
      "metadata": {
        "colab": {
          "base_uri": "https://localhost:8080/"
        },
        "id": "l-mkawKrHEYK",
        "outputId": "bbf43836-420c-42d1-ba72-10e8e3ac368a"
      },
      "outputs": [
        {
          "data": {
            "text/plain": [
              "array([ 3,  6,  9, 12, 15, 18])"
            ]
          },
          "execution_count": 60,
          "metadata": {},
          "output_type": "execute_result"
        }
      ],
      "source": [
        "ar = np.arange(3, 20, 3)\n",
        "ar"
      ]
    },
    {
      "cell_type": "code",
      "execution_count": null,
      "metadata": {
        "colab": {
          "base_uri": "https://localhost:8080/"
        },
        "id": "vHMZJYQdHXlO",
        "outputId": "cc1c1004-9edc-4e72-856f-f991ddc1c92c"
      },
      "outputs": [
        {
          "data": {
            "text/plain": [
              "array([ 9, 12])"
            ]
          },
          "execution_count": 61,
          "metadata": {},
          "output_type": "execute_result"
        }
      ],
      "source": [
        "ar[2: 4]"
      ]
    },
    {
      "cell_type": "code",
      "execution_count": null,
      "metadata": {
        "colab": {
          "base_uri": "https://localhost:8080/"
        },
        "id": "aZzvXAa3HsCK",
        "outputId": "0ddea1c2-b897-47b3-83fd-1cbfd7c8ea00"
      },
      "outputs": [
        {
          "name": "stdout",
          "output_type": "stream",
          "text": [
            "[1, 2, 3, 4]\n",
            "[2, 3]\n",
            "[1, 2, 3, 4]\n",
            "[1000, 3]\n"
          ]
        }
      ],
      "source": [
        "l = [1,2,3,4]\n",
        "l2 = l[1:3]\n",
        "print(l)\n",
        "print(l2)\n",
        "l2[0] = 1000\n",
        "print(l)\n",
        "print(l2)"
      ]
    },
    {
      "cell_type": "code",
      "execution_count": null,
      "metadata": {
        "colab": {
          "base_uri": "https://localhost:8080/"
        },
        "id": "inf46PfuH7MA",
        "outputId": "f70027a9-764a-4a39-9c7a-6625ed9145a8"
      },
      "outputs": [
        {
          "data": {
            "text/plain": [
              "array([0, 1, 2, 3, 4, 5, 6, 7, 8, 9])"
            ]
          },
          "execution_count": 64,
          "metadata": {},
          "output_type": "execute_result"
        }
      ],
      "source": [
        "ar = np.arange(10)\n",
        "ar"
      ]
    },
    {
      "cell_type": "code",
      "execution_count": null,
      "metadata": {
        "colab": {
          "base_uri": "https://localhost:8080/"
        },
        "id": "esNiSHQgH-62",
        "outputId": "1b8d8cc5-629f-4bcc-8af0-b44e9b1918cf"
      },
      "outputs": [
        {
          "name": "stdout",
          "output_type": "stream",
          "text": [
            "[0 1 2 3 4 5 6 7 8 9]\n",
            "[2 3 4]\n",
            "[0 1 2 3 4 5 6 7 8 9]\n",
            "[1000    3    4]\n"
          ]
        }
      ],
      "source": [
        "ar = np.arange(10)\n",
        "ar2 = ar[2:5].copy()\n",
        "print(ar)\n",
        "print(ar2)\n",
        "ar2[0] = 1000\n",
        "print(ar)\n",
        "print(ar2)"
      ]
    },
    {
      "cell_type": "markdown",
      "metadata": {
        "id": "-jf85m5fPhIL"
      },
      "source": [
        "# 2D Array\n",
        "\n",
        "[start, end, step]"
      ]
    },
    {
      "cell_type": "code",
      "execution_count": null,
      "metadata": {
        "id": "Tnrts2NWIFax"
      },
      "outputs": [],
      "source": [
        "ar = np.array([\n",
        "          [1,2,3],\n",
        "          [4,5,6],\n",
        "          [7,8,9],\n",
        "          [10,11,12]\n",
        "])"
      ]
    },
    {
      "cell_type": "code",
      "execution_count": null,
      "metadata": {
        "colab": {
          "base_uri": "https://localhost:8080/"
        },
        "id": "eUuQAPVmW9h7",
        "outputId": "afb88216-e697-4ce1-ef41-0a739f87e1b6"
      },
      "outputs": [
        {
          "data": {
            "text/plain": [
              "2"
            ]
          },
          "execution_count": 73,
          "metadata": {},
          "output_type": "execute_result"
        }
      ],
      "source": [
        "ar.ndim"
      ]
    },
    {
      "cell_type": "code",
      "execution_count": null,
      "metadata": {
        "colab": {
          "base_uri": "https://localhost:8080/"
        },
        "id": "HHvG6mcdXBnd",
        "outputId": "05aadec0-f4db-4d11-f8c0-35edeff9db17"
      },
      "outputs": [
        {
          "data": {
            "text/plain": [
              "(4, 3)"
            ]
          },
          "execution_count": 75,
          "metadata": {},
          "output_type": "execute_result"
        }
      ],
      "source": [
        "ar.shape"
      ]
    },
    {
      "cell_type": "code",
      "execution_count": null,
      "metadata": {
        "id": "Pz-S_T4FXzaM"
      },
      "outputs": [],
      "source": [
        "ar = np.array([\n",
        "          [1,2,3],\n",
        "          [100,5,6],\n",
        "          [7,8,9],\n",
        "          [10,11,12]\n",
        "])"
      ]
    },
    {
      "cell_type": "code",
      "execution_count": null,
      "metadata": {
        "colab": {
          "base_uri": "https://localhost:8080/"
        },
        "id": "PdGTifZ2X9YI",
        "outputId": "2b92d479-bafb-4346-8d9f-42a13eb4a663"
      },
      "outputs": [
        {
          "data": {
            "text/plain": [
              "12"
            ]
          },
          "execution_count": 90,
          "metadata": {},
          "output_type": "execute_result"
        }
      ],
      "source": [
        "ar.size"
      ]
    },
    {
      "cell_type": "code",
      "execution_count": null,
      "metadata": {
        "colab": {
          "base_uri": "https://localhost:8080/"
        },
        "id": "XyQjVRC5Y0Ga",
        "outputId": "8e5de042-7c81-49c3-8de9-14ee5002f40f"
      },
      "outputs": [
        {
          "data": {
            "text/plain": [
              "(4, 3)"
            ]
          },
          "execution_count": 94,
          "metadata": {},
          "output_type": "execute_result"
        }
      ],
      "source": [
        "ar.shape"
      ]
    },
    {
      "cell_type": "code",
      "execution_count": null,
      "metadata": {
        "colab": {
          "base_uri": "https://localhost:8080/"
        },
        "id": "-A52IhfxY3Kq",
        "outputId": "77408e5b-8a40-407b-861b-531d29a8a7c2"
      },
      "outputs": [
        {
          "data": {
            "text/plain": [
              "100"
            ]
          },
          "execution_count": 102,
          "metadata": {},
          "output_type": "execute_result"
        }
      ],
      "source": [
        "ar[1, 0]"
      ]
    },
    {
      "cell_type": "code",
      "execution_count": null,
      "metadata": {
        "colab": {
          "base_uri": "https://localhost:8080/"
        },
        "id": "cYt6rlJQZAib",
        "outputId": "981ef62d-27e5-47bf-9dca-a2e1af28db33"
      },
      "outputs": [
        {
          "data": {
            "text/plain": [
              "array([[  1,   2,   3],\n",
              "       [100,   5,   6],\n",
              "       [  7,   8,   9],\n",
              "       [ 10,  11,  12]])"
            ]
          },
          "execution_count": 103,
          "metadata": {},
          "output_type": "execute_result"
        }
      ],
      "source": [
        "ar"
      ]
    },
    {
      "cell_type": "code",
      "execution_count": null,
      "metadata": {
        "colab": {
          "base_uri": "https://localhost:8080/"
        },
        "id": "CyjLoon-ZCdR",
        "outputId": "15ed376e-fb07-478c-cf20-e1f4b2a25e0f"
      },
      "outputs": [
        {
          "data": {
            "text/plain": [
              "array([[100,   5],\n",
              "       [  7,   8]])"
            ]
          },
          "execution_count": 114,
          "metadata": {},
          "output_type": "execute_result"
        }
      ],
      "source": [
        "ar[1:3, 0:2]"
      ]
    },
    {
      "cell_type": "code",
      "execution_count": null,
      "metadata": {
        "colab": {
          "base_uri": "https://localhost:8080/"
        },
        "id": "qYk9HlNCZnM6",
        "outputId": "7d23fda1-a553-4ba2-ab29-6c5809f0a63f"
      },
      "outputs": [
        {
          "data": {
            "text/plain": [
              "array([[ 12,  11,  10],\n",
              "       [  9,   8,   7],\n",
              "       [  6,   5, 100],\n",
              "       [  3,   2,   1]])"
            ]
          },
          "execution_count": 112,
          "metadata": {},
          "output_type": "execute_result"
        }
      ],
      "source": [
        "ar[::-1, ::-1]"
      ]
    },
    {
      "cell_type": "code",
      "execution_count": null,
      "metadata": {
        "colab": {
          "base_uri": "https://localhost:8080/"
        },
        "id": "-0vQ-VhjaXfF",
        "outputId": "3a1ab586-2dce-4d7c-a892-5c7e935607ff"
      },
      "outputs": [
        {
          "data": {
            "text/plain": [
              "1.0"
            ]
          },
          "execution_count": 118,
          "metadata": {},
          "output_type": "execute_result"
        }
      ],
      "source": [
        "np.ones((2,3,4))[0, 1, 2]"
      ]
    },
    {
      "cell_type": "markdown",
      "metadata": {
        "id": "i9-EXGSWaP5A"
      },
      "source": [
        "# Functions\n",
        "\n",
        "\n",
        "\n",
        "*   arange [start, end, step]\n",
        "*   permutation\n",
        "*   randint [start, end)\n",
        "*   rand [0, 1)\n",
        "*   randn  normal mean~0 std~1\n",
        "*   linspace (start, end , length) ar[i]-ar[i-1] == ar[j]-ar[j-1]\n",
        "*   where(ar)  indexes to True\n",
        "*   where(ar, a, b)   replaces true with a and false with b"
      ]
    },
    {
      "cell_type": "code",
      "execution_count": null,
      "metadata": {
        "colab": {
          "base_uri": "https://localhost:8080/"
        },
        "id": "_h-nWQ8xaNhC",
        "outputId": "868ebab6-b7f4-4c6d-9811-d0451ce897ee"
      },
      "outputs": [
        {
          "data": {
            "text/plain": [
              "array([2, 4, 6, 8])"
            ]
          },
          "execution_count": 121,
          "metadata": {},
          "output_type": "execute_result"
        }
      ],
      "source": [
        "ar = np.arange(2, 9, 2)\n",
        "ar"
      ]
    },
    {
      "cell_type": "code",
      "execution_count": null,
      "metadata": {
        "colab": {
          "base_uri": "https://localhost:8080/"
        },
        "id": "1uHODAj2bhvW",
        "outputId": "0c2dc913-b2b4-4dbf-e3d0-57609043bb9d"
      },
      "outputs": [
        {
          "data": {
            "text/plain": [
              "array([4, 6, 8, 2])"
            ]
          },
          "execution_count": 125,
          "metadata": {},
          "output_type": "execute_result"
        }
      ],
      "source": [
        "np.random.permutation(ar)"
      ]
    },
    {
      "cell_type": "code",
      "execution_count": null,
      "metadata": {
        "colab": {
          "base_uri": "https://localhost:8080/"
        },
        "id": "dKbg2xw-buxT",
        "outputId": "74450621-a0e5-4099-adbc-34be1edf5420"
      },
      "outputs": [
        {
          "data": {
            "text/plain": [
              "array([2, 4, 6, 8])"
            ]
          },
          "execution_count": 126,
          "metadata": {},
          "output_type": "execute_result"
        }
      ],
      "source": [
        "ar"
      ]
    },
    {
      "cell_type": "code",
      "execution_count": null,
      "metadata": {
        "colab": {
          "base_uri": "https://localhost:8080/"
        },
        "id": "r9RStn4AbvuG",
        "outputId": "0f443b85-5595-440e-c88d-c705e6eb1eb9"
      },
      "outputs": [
        {
          "data": {
            "text/plain": [
              "2"
            ]
          },
          "execution_count": 134,
          "metadata": {},
          "output_type": "execute_result"
        }
      ],
      "source": [
        "np.random.randint(1, 3)"
      ]
    },
    {
      "cell_type": "code",
      "execution_count": null,
      "metadata": {
        "colab": {
          "base_uri": "https://localhost:8080/"
        },
        "id": "P-8NbVHocJwj",
        "outputId": "350ab9fb-2717-41c7-ca6a-83a20d49f216"
      },
      "outputs": [
        {
          "data": {
            "text/plain": [
              "array([[0.03591451, 0.86709855],\n",
              "       [0.08677252, 0.90459784],\n",
              "       [0.63810426, 0.96877715],\n",
              "       [0.72127016, 0.53637654]])"
            ]
          },
          "execution_count": 139,
          "metadata": {},
          "output_type": "execute_result"
        }
      ],
      "source": [
        "np.random.rand(4, 2)"
      ]
    },
    {
      "cell_type": "code",
      "execution_count": null,
      "metadata": {
        "id": "XvUuUT35cUhw"
      },
      "outputs": [],
      "source": [
        "# mean = 0\n",
        "# std = 1\n",
        "\n",
        "ar = np.random.randn(10000)"
      ]
    },
    {
      "cell_type": "code",
      "execution_count": null,
      "metadata": {
        "colab": {
          "base_uri": "https://localhost:8080/",
          "height": 265
        },
        "id": "UNMw5EoTcg0n",
        "outputId": "60a8e7de-9d81-4f4f-ef98-ebb82c82eed2"
      },
      "outputs": [
        {
          "data": {
            "image/png": "[encoded data removed]",
            "text/plain": [
              "<Figure size 432x288 with 1 Axes>"
            ]
          },
          "metadata": {
            "needs_background": "light"
          },
          "output_type": "display_data"
        }
      ],
      "source": [
        "import matplotlib.pyplot as plt\n",
        "\n",
        "plt.hist(ar, bins = 100)\n",
        "plt.show()"
      ]
    },
    {
      "cell_type": "code",
      "execution_count": null,
      "metadata": {
        "colab": {
          "base_uri": "https://localhost:8080/"
        },
        "id": "hJlFe0UbdGg-",
        "outputId": "04bdfa49-fd2f-4fee-ad91-aa0451f3f549"
      },
      "outputs": [
        {
          "name": "stdout",
          "output_type": "stream",
          "text": [
            "18\n",
            "[ 1.          1.52941176  2.05882353  2.58823529  3.11764706  3.64705882\n",
            "  4.17647059  4.70588235  5.23529412  5.76470588  6.29411765  6.82352941\n",
            "  7.35294118  7.88235294  8.41176471  8.94117647  9.47058824 10.        ]\n"
          ]
        }
      ],
      "source": [
        "ar = np.linspace(1, 10, 18)\n",
        "print(ar.size)\n",
        "print(ar)"
      ]
    },
    {
      "cell_type": "code",
      "execution_count": null,
      "metadata": {
        "colab": {
          "base_uri": "https://localhost:8080/"
        },
        "id": "QIvU-Obdd-Vt",
        "outputId": "0c1d158a-f489-4567-e715-5c7c18e49e49"
      },
      "outputs": [
        {
          "name": "stdout",
          "output_type": "stream",
          "text": [
            "0.5294117647058822\n",
            "0.5294117647058822\n"
          ]
        }
      ],
      "source": [
        "print(ar[4] - ar[3])\n",
        "print(ar[7] - ar[6])"
      ]
    },
    {
      "cell_type": "code",
      "execution_count": null,
      "metadata": {
        "colab": {
          "base_uri": "https://localhost:8080/"
        },
        "id": "KJxehmxxeB76",
        "outputId": "8202cc17-c291-4d60-8611-0f17d33244f6"
      },
      "outputs": [
        {
          "data": {
            "text/plain": [
              "array([8, 3, 8, 8, 3])"
            ]
          },
          "execution_count": 165,
          "metadata": {},
          "output_type": "execute_result"
        }
      ],
      "source": [
        "ar = np.array([False , True, False, False, True])\n",
        "np.where(ar, 3, 8)"
      ]
    },
    {
      "cell_type": "code",
      "execution_count": null,
      "metadata": {
        "colab": {
          "base_uri": "https://localhost:8080/"
        },
        "id": "kMPaJ6H2hpbH",
        "outputId": "17db1ef0-fbf7-481e-c764-a955c9504a82"
      },
      "outputs": [
        {
          "data": {
            "text/plain": [
              "(10,)"
            ]
          },
          "execution_count": 168,
          "metadata": {},
          "output_type": "execute_result"
        }
      ],
      "source": [
        "ar = np.arange(10)\n",
        "ar.shape"
      ]
    },
    {
      "cell_type": "code",
      "execution_count": null,
      "metadata": {
        "colab": {
          "base_uri": "https://localhost:8080/"
        },
        "id": "cZRnC0Rthwa9",
        "outputId": "13f0d6c7-7816-4085-b184-92f718a4ee3e"
      },
      "outputs": [
        {
          "data": {
            "text/plain": [
              "array([[0, 1, 2, 3, 4],\n",
              "       [5, 6, 7, 8, 9]])"
            ]
          },
          "execution_count": 169,
          "metadata": {},
          "output_type": "execute_result"
        }
      ],
      "source": [
        "ar.reshape(2,5)"
      ]
    },
    {
      "cell_type": "code",
      "execution_count": null,
      "metadata": {
        "id": "Ny8BdcQ9h6iY"
      },
      "outputs": [],
      "source": [
        "ar = np.ones((2,3,2,3))"
      ]
    },
    {
      "cell_type": "code",
      "execution_count": null,
      "metadata": {
        "colab": {
          "base_uri": "https://localhost:8080/"
        },
        "id": "A5FUO_NKiHH0",
        "outputId": "55113262-1f08-4265-ef57-cf14ffb51b29"
      },
      "outputs": [
        {
          "name": "stdout",
          "output_type": "stream",
          "text": [
            "36\n"
          ]
        }
      ],
      "source": [
        "print(ar.size)"
      ]
    },
    {
      "cell_type": "code",
      "execution_count": null,
      "metadata": {
        "colab": {
          "base_uri": "https://localhost:8080/"
        },
        "id": "wqAAa4muiIl4",
        "outputId": "89aa501d-5807-45e9-81bc-a01214da9695"
      },
      "outputs": [
        {
          "data": {
            "text/plain": [
              "array([[[1., 1., 1., 1.],\n",
              "        [1., 1., 1., 1.],\n",
              "        [1., 1., 1., 1.]],\n",
              "\n",
              "       [[1., 1., 1., 1.],\n",
              "        [1., 1., 1., 1.],\n",
              "        [1., 1., 1., 1.]],\n",
              "\n",
              "       [[1., 1., 1., 1.],\n",
              "        [1., 1., 1., 1.],\n",
              "        [1., 1., 1., 1.]]])"
            ]
          },
          "execution_count": 178,
          "metadata": {},
          "output_type": "execute_result"
        }
      ],
      "source": [
        "ar.reshape(3,3, 4)"
      ]
    },
    {
      "cell_type": "markdown",
      "metadata": {
        "id": "bLq1AXJNgC_i"
      },
      "source": [
        "#Operators\n",
        "\n",
        "+\n",
        "-\n",
        "*\n",
        "/\n",
        "%\n",
        "<\n",
        ">\n",
        "<=\n",
        ">="
      ]
    },
    {
      "cell_type": "code",
      "execution_count": null,
      "metadata": {
        "colab": {
          "base_uri": "https://localhost:8080/"
        },
        "id": "uHFNId4JfMYQ",
        "outputId": "1af977cb-5dbc-480a-cd9f-c43fe1ded404"
      },
      "outputs": [
        {
          "name": "stdout",
          "output_type": "stream",
          "text": [
            "[3 0 2 1]\n",
            "[2 3 1 0]\n"
          ]
        }
      ],
      "source": [
        "a = np.random.permutation(np.arange(4))\n",
        "b = np.random.permutation(np.arange(4))\n",
        "print(a)\n",
        "print(b)"
      ]
    },
    {
      "cell_type": "code",
      "execution_count": null,
      "metadata": {
        "colab": {
          "base_uri": "https://localhost:8080/"
        },
        "id": "MaA8epX7ia01",
        "outputId": "dcd02220-083d-432e-8f8a-5de00082188e"
      },
      "outputs": [
        {
          "name": "stdout",
          "output_type": "stream",
          "text": [
            "[5 3 3 1]\n",
            "[ 1 -3  1  1]\n",
            "[6 0 2 0]\n",
            "[1 0 0 0]\n",
            "[1.5 0.  2.  inf]\n"
          ]
        },
        {
          "name": "stderr",
          "output_type": "stream",
          "text": [
            "/usr/local/lib/python3.7/dist-packages/ipykernel_launcher.py:4: RuntimeWarning: divide by zero encountered in remainder\n",
            "  after removing the cwd from sys.path.\n",
            "/usr/local/lib/python3.7/dist-packages/ipykernel_launcher.py:5: RuntimeWarning: divide by zero encountered in true_divide\n",
            "  \"\"\"\n"
          ]
        }
      ],
      "source": [
        "print(a + b)\n",
        "print(a - b)\n",
        "print(a * b)\n",
        "print(a % b)\n",
        "print(a / b)"
      ]
    },
    {
      "cell_type": "code",
      "execution_count": null,
      "metadata": {
        "colab": {
          "base_uri": "https://localhost:8080/"
        },
        "id": "Mg8Oe-HMilLJ",
        "outputId": "679f0dc6-bb22-41bd-c831-1ee039d62ea1"
      },
      "outputs": [
        {
          "name": "stdout",
          "output_type": "stream",
          "text": [
            "[False  True False False]\n",
            "[ True False  True  True]\n",
            "[False  True False False]\n",
            "[ True False  True  True]\n"
          ]
        }
      ],
      "source": [
        "print(a < b)\n",
        "print(a > b)\n",
        "print(a <= b)\n",
        "print(a >= b)"
      ]
    },
    {
      "cell_type": "markdown",
      "metadata": {
        "id": "vOTVHImpjXhq"
      },
      "source": [
        "# Broadcasting\n",
        "\n"
      ]
    },
    {
      "cell_type": "code",
      "execution_count": null,
      "metadata": {
        "colab": {
          "base_uri": "https://localhost:8080/"
        },
        "id": "_90NNnSJi-ps",
        "outputId": "4835b423-5fd8-45b4-fced-15ad4824a5b6"
      },
      "outputs": [
        {
          "data": {
            "text/plain": [
              "array([3, 0, 2, 1])"
            ]
          },
          "execution_count": 186,
          "metadata": {},
          "output_type": "execute_result"
        }
      ],
      "source": [
        "a"
      ]
    },
    {
      "cell_type": "code",
      "execution_count": null,
      "metadata": {
        "colab": {
          "base_uri": "https://localhost:8080/"
        },
        "id": "c8_jTtDEjaaB",
        "outputId": "556a6ffd-20cb-4d2f-f91d-ee5b4e4d8d52"
      },
      "outputs": [
        {
          "name": "stdout",
          "output_type": "stream",
          "text": [
            "[5 2 4 3]\n",
            "[ 1 -2  0 -1]\n",
            "[6 0 4 2]\n",
            "[1 0 0 1]\n",
            "[1.5 0.  1.  0.5]\n"
          ]
        }
      ],
      "source": [
        "print(a + 2)\n",
        "print(a - 2)\n",
        "print(a * 2)\n",
        "print(a % 2)\n",
        "print(a / 2)"
      ]
    },
    {
      "cell_type": "code",
      "execution_count": null,
      "metadata": {
        "colab": {
          "base_uri": "https://localhost:8080/"
        },
        "id": "KdZ5vodrjeKv",
        "outputId": "176a2530-e31c-49dc-a087-16e25321cd92"
      },
      "outputs": [
        {
          "name": "stdout",
          "output_type": "stream",
          "text": [
            "[False  True False  True]\n",
            "[ True False False False]\n",
            "[False  True  True  True]\n",
            "[ True False  True False]\n"
          ]
        }
      ],
      "source": [
        "print(a < 2)\n",
        "print(a > 2)\n",
        "print(a <= 2)\n",
        "print(a >= 2)"
      ]
    },
    {
      "cell_type": "code",
      "execution_count": null,
      "metadata": {
        "colab": {
          "base_uri": "https://localhost:8080/"
        },
        "id": "BVNBJSyojq57",
        "outputId": "3315dc96-d14b-4591-e4d2-6050a54b9e24"
      },
      "outputs": [
        {
          "data": {
            "text/plain": [
              "array([[ 0,  1,  2,  3],\n",
              "       [ 4,  5,  6,  7],\n",
              "       [ 8,  9, 10, 11]])"
            ]
          },
          "execution_count": 190,
          "metadata": {},
          "output_type": "execute_result"
        }
      ],
      "source": [
        "arr = np.arange(12).reshape(3,4)\n",
        "arr"
      ]
    },
    {
      "cell_type": "code",
      "execution_count": null,
      "metadata": {
        "colab": {
          "base_uri": "https://localhost:8080/"
        },
        "id": "T9EI-NFHk2lM",
        "outputId": "bd367378-9741-4160-eddb-57d663ff066f"
      },
      "outputs": [
        {
          "data": {
            "text/plain": [
              "array([[10, 11, 22, 53],\n",
              "       [14, 15, 26, 57],\n",
              "       [18, 19, 30, 61]])"
            ]
          },
          "execution_count": 202,
          "metadata": {},
          "output_type": "execute_result"
        }
      ],
      "source": [
        "arr + np.array([10, 10, 20, 50])"
      ]
    },
    {
      "cell_type": "code",
      "execution_count": null,
      "metadata": {
        "colab": {
          "base_uri": "https://localhost:8080/"
        },
        "id": "Vd1yPieBkkQM",
        "outputId": "4a7d2cb4-5a29-44cf-c3dc-51e8331f6aee"
      },
      "outputs": [
        {
          "data": {
            "text/plain": [
              "array([[  0,   1,   4,   9],\n",
              "       [ 16,  25,  36,  49],\n",
              "       [ 64,  81, 100, 121]])"
            ]
          },
          "execution_count": 201,
          "metadata": {},
          "output_type": "execute_result"
        }
      ],
      "source": [
        "arr * arr"
      ]
    },
    {
      "cell_type": "code",
      "execution_count": null,
      "metadata": {
        "colab": {
          "base_uri": "https://localhost:8080/"
        },
        "id": "uAmslp3Bjwhd",
        "outputId": "0c0fbb16-db35-4b9d-b79d-2b4f2ddbed5f"
      },
      "outputs": [
        {
          "data": {
            "text/plain": [
              "array([[ 42,  48,  54],\n",
              "       [114, 136, 158],\n",
              "       [186, 224, 262]])"
            ]
          },
          "execution_count": 200,
          "metadata": {},
          "output_type": "execute_result"
        }
      ],
      "source": [
        "arr.dot(np.arange(12).reshape(4,3))"
      ]
    },
    {
      "cell_type": "markdown",
      "metadata": {
        "id": "MIkMGoMrlDzt"
      },
      "source": [
        "# Fancy Indexing"
      ]
    },
    {
      "cell_type": "code",
      "execution_count": null,
      "metadata": {
        "colab": {
          "base_uri": "https://localhost:8080/"
        },
        "id": "XVX-oO3QkCEb",
        "outputId": "42979b96-a209-4eb3-f394-d65a3175c239"
      },
      "outputs": [
        {
          "data": {
            "text/plain": [
              "array([1, 2, 4, 0, 3])"
            ]
          },
          "execution_count": 211,
          "metadata": {},
          "output_type": "execute_result"
        }
      ],
      "source": [
        "ar = np.random.permutation(np.arange(5))\n",
        "ar"
      ]
    },
    {
      "cell_type": "code",
      "execution_count": null,
      "metadata": {
        "colab": {
          "base_uri": "https://localhost:8080/"
        },
        "id": "IhgaXui-lLJv",
        "outputId": "9b29e822-9b85-406d-a01e-cf2a2d08a357"
      },
      "outputs": [
        {
          "data": {
            "text/plain": [
              "array([1, 2, 0])"
            ]
          },
          "execution_count": 215,
          "metadata": {},
          "output_type": "execute_result"
        }
      ],
      "source": [
        "ar[[0, 1, 3]]"
      ]
    },
    {
      "cell_type": "code",
      "execution_count": null,
      "metadata": {
        "colab": {
          "base_uri": "https://localhost:8080/"
        },
        "id": "xFPI2YOoleub",
        "outputId": "e3bbc588-03b0-42e8-e2f0-935552df8d71"
      },
      "outputs": [
        {
          "data": {
            "text/plain": [
              "array([1, 0, 2, 3])"
            ]
          },
          "execution_count": 213,
          "metadata": {},
          "output_type": "execute_result"
        }
      ],
      "source": [
        "ar[[0, 3, 1, 4]]"
      ]
    },
    {
      "cell_type": "code",
      "execution_count": null,
      "metadata": {
        "colab": {
          "base_uri": "https://localhost:8080/"
        },
        "id": "qLy43KjalgJI",
        "outputId": "2aeb2973-561d-41d7-a559-b2fea4d8ab43"
      },
      "outputs": [
        {
          "data": {
            "text/plain": [
              "array([1, 0, 3])"
            ]
          },
          "execution_count": 214,
          "metadata": {},
          "output_type": "execute_result"
        }
      ],
      "source": [
        "ar[[True, False, False, True, True]]"
      ]
    },
    {
      "cell_type": "code",
      "execution_count": null,
      "metadata": {
        "colab": {
          "base_uri": "https://localhost:8080/"
        },
        "id": "6vCD1-9Ilu1m",
        "outputId": "5f2bee69-280e-451f-fc34-096fadbe9eb6"
      },
      "outputs": [
        {
          "data": {
            "text/plain": [
              "array([ True,  True, False,  True,  True])"
            ]
          },
          "execution_count": 217,
          "metadata": {},
          "output_type": "execute_result"
        }
      ],
      "source": [
        "ar <= 3"
      ]
    },
    {
      "cell_type": "code",
      "execution_count": null,
      "metadata": {
        "colab": {
          "base_uri": "https://localhost:8080/"
        },
        "id": "i-mGPmWWmYYg",
        "outputId": "f739c0d5-f5d1-4e61-de00-c5f227482cbd"
      },
      "outputs": [
        {
          "data": {
            "text/plain": [
              "array([1, 2, 0, 3])"
            ]
          },
          "execution_count": 218,
          "metadata": {},
          "output_type": "execute_result"
        }
      ],
      "source": [
        "ar[ ar <= 3 ]"
      ]
    },
    {
      "cell_type": "code",
      "execution_count": null,
      "metadata": {
        "colab": {
          "base_uri": "https://localhost:8080/"
        },
        "id": "FFbu6ayymbqA",
        "outputId": "9d9d2d4b-cc0f-425c-f63b-845a1ce270d4"
      },
      "outputs": [
        {
          "data": {
            "text/plain": [
              "array([2])"
            ]
          },
          "execution_count": 219,
          "metadata": {},
          "output_type": "execute_result"
        }
      ],
      "source": [
        "ar[ ar==2 ]"
      ]
    },
    {
      "cell_type": "markdown",
      "metadata": {
        "id": "iSBRiliUm-cV"
      },
      "source": [
        "2 <= x <= 3"
      ]
    },
    {
      "cell_type": "code",
      "execution_count": null,
      "metadata": {
        "colab": {
          "base_uri": "https://localhost:8080/"
        },
        "id": "YKwTSQQ7mzba",
        "outputId": "f0b891f6-1719-4be4-d991-75c5be88ea3f"
      },
      "outputs": [
        {
          "data": {
            "text/plain": [
              "array([2, 3])"
            ]
          },
          "execution_count": 228,
          "metadata": {},
          "output_type": "execute_result"
        }
      ],
      "source": [
        "ar[ (ar >= 2) & (ar <= 3) ]"
      ]
    },
    {
      "cell_type": "code",
      "execution_count": null,
      "metadata": {
        "colab": {
          "base_uri": "https://localhost:8080/"
        },
        "id": "Q4FAK83ynEnu",
        "outputId": "7fc33aca-8a41-4e1d-f25a-c94e7782389a"
      },
      "outputs": [
        {
          "data": {
            "text/plain": [
              "array([0, 1])"
            ]
          },
          "execution_count": 260,
          "metadata": {},
          "output_type": "execute_result"
        }
      ],
      "source": [
        "np.where((ar >= 2) & (ar <= 3))[0]"
      ]
    },
    {
      "cell_type": "markdown",
      "metadata": {
        "id": "X-fLPdKVoOnT"
      },
      "source": [
        "# Maths Functions\n",
        "\n",
        "sin cos tan(radian)"
      ]
    },
    {
      "cell_type": "code",
      "execution_count": null,
      "metadata": {
        "colab": {
          "base_uri": "https://localhost:8080/"
        },
        "id": "xpVhnQ0zn3uJ",
        "outputId": "e69d721d-c885-4c07-d9f8-595d0f6dc7f2"
      },
      "outputs": [
        {
          "data": {
            "text/plain": [
              "array([3, 2, 1, 4, 0])"
            ]
          },
          "execution_count": 234,
          "metadata": {},
          "output_type": "execute_result"
        }
      ],
      "source": [
        "ar = np.random.permutation(np.arange(5))\n",
        "ar"
      ]
    },
    {
      "cell_type": "code",
      "execution_count": null,
      "metadata": {
        "colab": {
          "base_uri": "https://localhost:8080/"
        },
        "id": "4p0Li-IfoZrM",
        "outputId": "f3f3d0f2-7acf-44c2-b089-4f024b415b3d"
      },
      "outputs": [
        {
          "name": "stdout",
          "output_type": "stream",
          "text": [
            "2.0\n",
            "1.4142135623730951\n",
            "10\n",
            "0\n",
            "4\n"
          ]
        }
      ],
      "source": [
        "print(ar.mean())\n",
        "print(ar.std())\n",
        "print(ar.sum())\n",
        "print(ar.min())\n",
        "print(ar.max())"
      ]
    },
    {
      "cell_type": "code",
      "execution_count": null,
      "metadata": {
        "colab": {
          "base_uri": "https://localhost:8080/"
        },
        "id": "uqyJIDl0oig6",
        "outputId": "3979d7a2-4eb7-4529-8b6e-19d72a16141d"
      },
      "outputs": [
        {
          "name": "stdout",
          "output_type": "stream",
          "text": [
            "4\n",
            "3\n"
          ]
        }
      ],
      "source": [
        "print(ar.argmin())\n",
        "print(ar.argmax())"
      ]
    },
    {
      "cell_type": "code",
      "execution_count": null,
      "metadata": {
        "colab": {
          "base_uri": "https://localhost:8080/"
        },
        "id": "SW8m2R0Gonth",
        "outputId": "37120261-4d6b-4792-d788-77bc7ea32e9e"
      },
      "outputs": [
        {
          "data": {
            "text/plain": [
              "array([[ 0,  1,  2,  3],\n",
              "       [ 4,  5,  6,  7],\n",
              "       [ 8,  9, 10, 11]])"
            ]
          },
          "execution_count": 238,
          "metadata": {},
          "output_type": "execute_result"
        }
      ],
      "source": [
        "arr = np.arange(12).reshape(3,4)\n",
        "arr "
      ]
    },
    {
      "cell_type": "code",
      "execution_count": null,
      "metadata": {
        "colab": {
          "base_uri": "https://localhost:8080/"
        },
        "id": "bTz8DV34ot-c",
        "outputId": "6dc90330-918c-46ff-e931-30ec23b831d6"
      },
      "outputs": [
        {
          "data": {
            "text/plain": [
              "array([ 6, 22, 38])"
            ]
          },
          "execution_count": 243,
          "metadata": {},
          "output_type": "execute_result"
        }
      ],
      "source": [
        "arr.sum(axis = 1)"
      ]
    },
    {
      "cell_type": "code",
      "execution_count": null,
      "metadata": {
        "colab": {
          "base_uri": "https://localhost:8080/"
        },
        "id": "ZYc9sZ7JpHKD",
        "outputId": "cf3646be-f1e1-4c85-9da6-4a805271daba"
      },
      "outputs": [
        {
          "data": {
            "text/plain": [
              "array([[10,  1,  4,  0],\n",
              "       [ 7,  5,  8,  9],\n",
              "       [ 2,  6,  3, 11]])"
            ]
          },
          "execution_count": 245,
          "metadata": {},
          "output_type": "execute_result"
        }
      ],
      "source": [
        "arr = np.random.permutation(arr.reshape(arr.size)).reshape(3,4)\n",
        "arr"
      ]
    },
    {
      "cell_type": "code",
      "execution_count": null,
      "metadata": {
        "colab": {
          "base_uri": "https://localhost:8080/"
        },
        "id": "gSfPdGB8pKyh",
        "outputId": "d57dccb9-43b8-4802-dbc6-d3453b2d7531"
      },
      "outputs": [
        {
          "data": {
            "text/plain": [
              "array([3, 1, 0])"
            ]
          },
          "execution_count": 248,
          "metadata": {},
          "output_type": "execute_result"
        }
      ],
      "source": [
        "arr.argmin(axis=1)"
      ]
    },
    {
      "cell_type": "code",
      "execution_count": null,
      "metadata": {
        "colab": {
          "base_uri": "https://localhost:8080/"
        },
        "id": "UhxqMXCuqUZT",
        "outputId": "e13ae164-a9fb-45c8-9f9d-52fcb655beb8"
      },
      "outputs": [
        {
          "data": {
            "text/plain": [
              "array([3, 2, 1, 4, 0])"
            ]
          },
          "execution_count": 257,
          "metadata": {},
          "output_type": "execute_result"
        }
      ],
      "source": [
        "ar"
      ]
    },
    {
      "cell_type": "code",
      "execution_count": null,
      "metadata": {
        "colab": {
          "base_uri": "https://localhost:8080/"
        },
        "id": "H6Rz3Enppc38",
        "outputId": "440c04e8-f5b3-4464-c2a7-6a38d035ad61"
      },
      "outputs": [
        {
          "data": {
            "text/plain": [
              "array([-0.9899925 , -0.41614684,  0.54030231, -0.65364362,  1.        ])"
            ]
          },
          "execution_count": 252,
          "metadata": {},
          "output_type": "execute_result"
        }
      ],
      "source": [
        "np.cos(ar)"
      ]
    },
    {
      "cell_type": "code",
      "execution_count": null,
      "metadata": {
        "colab": {
          "base_uri": "https://localhost:8080/",
          "height": 265
        },
        "id": "lKVP3TPoptXS",
        "outputId": "d9590523-2c39-4573-b9e3-836c3f20d555"
      },
      "outputs": [
        {
          "data": {
            "image/png": "[encoded data removed]",
            "text/plain": [
              "<Figure size 432x288 with 1 Axes>"
            ]
          },
          "metadata": {
            "needs_background": "light"
          },
          "output_type": "display_data"
        }
      ],
      "source": [
        "x = np.arange(360)\n",
        "\n",
        "plt.plot(x, np.sin(np.deg2rad(x)))\n",
        "plt.show()"
      ]
    },
    {
      "cell_type": "markdown",
      "metadata": {
        "id": "W03hdGH3qjia"
      },
      "source": [
        "# Split Concatinate"
      ]
    },
    {
      "cell_type": "code",
      "execution_count": 24,
      "metadata": {
        "colab": {
          "base_uri": "https://localhost:8080/"
        },
        "id": "MDpJhEycp2z8",
        "outputId": "31cfbda2-9ab1-425c-ab97-8954c156dc98"
      },
      "outputs": [
        {
          "name": "stdout",
          "output_type": "stream",
          "text": [
            "[1 2 3 4]\n",
            "[5 6 7 8]\n"
          ]
        }
      ],
      "source": [
        "a = np.array([1,2,3,4])\n",
        "b = np.array([5,6,7,8])\n",
        "\n",
        "print(a)\n",
        "print(b)"
      ]
    },
    {
      "cell_type": "code",
      "execution_count": 31,
      "metadata": {
        "colab": {
          "base_uri": "https://localhost:8080/"
        },
        "id": "-3MQ0FvkWI32",
        "outputId": "0145ccea-7e29-451a-f914-d35ef30cac59"
      },
      "outputs": [
        {
          "data": {
            "text/plain": [
              "array([1, 2, 3, 4, 5, 6, 7, 8, 1, 2, 3, 4, 1, 2, 3, 4, 1, 2, 3, 4, 5, 6,\n",
              "       7, 8])"
            ]
          },
          "execution_count": 31,
          "metadata": {},
          "output_type": "execute_result"
        }
      ],
      "source": [
        "np.concatenate([a,b, a , a, a, b])"
      ]
    },
    {
      "cell_type": "code",
      "execution_count": 26,
      "metadata": {
        "colab": {
          "base_uri": "https://localhost:8080/"
        },
        "id": "rLMsfVsDYM6u",
        "outputId": "b3f2379b-513a-4811-e10b-949697369ca0"
      },
      "outputs": [
        {
          "data": {
            "text/plain": [
              "array([1, 2, 3, 4, 5, 6, 7, 8])"
            ]
          },
          "execution_count": 26,
          "metadata": {},
          "output_type": "execute_result"
        }
      ],
      "source": [
        "np.hstack([a,b])"
      ]
    },
    {
      "cell_type": "code",
      "execution_count": 27,
      "metadata": {
        "colab": {
          "base_uri": "https://localhost:8080/"
        },
        "id": "nG7veM5UYNDm",
        "outputId": "3d8202d7-a8e0-44f6-88f7-a89efd7b8851"
      },
      "outputs": [
        {
          "data": {
            "text/plain": [
              "array([[1, 2, 3, 4],\n",
              "       [5, 6, 7, 8]])"
            ]
          },
          "execution_count": 27,
          "metadata": {},
          "output_type": "execute_result"
        }
      ],
      "source": [
        "np.vstack([a,b])"
      ]
    },
    {
      "cell_type": "code",
      "execution_count": 30,
      "metadata": {
        "colab": {
          "base_uri": "https://localhost:8080/"
        },
        "id": "2afUDZysYNOG",
        "outputId": "fc08d5d3-3728-42dc-a5e9-ef4e102badbe"
      },
      "outputs": [
        {
          "data": {
            "text/plain": [
              "array([[[1, 5],\n",
              "        [2, 6],\n",
              "        [3, 7],\n",
              "        [4, 8]]])"
            ]
          },
          "execution_count": 30,
          "metadata": {},
          "output_type": "execute_result"
        }
      ],
      "source": [
        "np.dstack([a,b])"
      ]
    },
    {
      "cell_type": "markdown",
      "metadata": {
        "id": "t_lsNtfnW7EW"
      },
      "source": [
        "**2D**"
      ]
    },
    {
      "cell_type": "code",
      "execution_count": 32,
      "metadata": {
        "id": "qaTJhBDAWcAb"
      },
      "outputs": [],
      "source": [
        "a = np.array([\n",
        "              [1,2,3],\n",
        "              [4,5,6]\n",
        "])\n",
        "b = np.array([\n",
        "              [7,8,9],\n",
        "              [10, 11, 12]\n",
        "])"
      ]
    },
    {
      "cell_type": "code",
      "execution_count": 35,
      "metadata": {
        "colab": {
          "base_uri": "https://localhost:8080/"
        },
        "id": "GduqVS_0WgxA",
        "outputId": "9de5d895-cfc6-46a5-f99d-99dedcc3d0c2"
      },
      "outputs": [
        {
          "data": {
            "text/plain": [
              "array([[ 1,  2,  3],\n",
              "       [ 4,  5,  6],\n",
              "       [ 7,  8,  9],\n",
              "       [10, 11, 12]])"
            ]
          },
          "execution_count": 35,
          "metadata": {},
          "output_type": "execute_result"
        }
      ],
      "source": [
        "np.concatenate([a,b], axis = 0)\n",
        "np.vstack([a,b])"
      ]
    },
    {
      "cell_type": "code",
      "execution_count": 36,
      "metadata": {
        "id": "8g2BprpDXDzU"
      },
      "outputs": [],
      "source": [
        "a = np.array([\n",
        "              [1,2],\n",
        "              [4,5]\n",
        "])\n",
        "b = np.array([\n",
        "              [7,8,9],\n",
        "              [10, 11, 12]\n",
        "])"
      ]
    },
    {
      "cell_type": "code",
      "execution_count": 38,
      "metadata": {
        "colab": {
          "base_uri": "https://localhost:8080/"
        },
        "id": "_P335OM3XK6x",
        "outputId": "18d07d4d-2b51-49e6-80c0-e1b4b17dd0be"
      },
      "outputs": [
        {
          "data": {
            "text/plain": [
              "array([[ 1,  2,  7,  8,  9],\n",
              "       [ 4,  5, 10, 11, 12]])"
            ]
          },
          "execution_count": 38,
          "metadata": {},
          "output_type": "execute_result"
        }
      ],
      "source": [
        "# np.concatenate([a,b], axis = 1)\n",
        "np.hstack([a,b])"
      ]
    },
    {
      "cell_type": "code",
      "execution_count": 19,
      "metadata": {
        "colab": {
          "base_uri": "https://localhost:8080/"
        },
        "id": "eVXzk4AgXiVa",
        "outputId": "8a657eda-d9af-496f-b457-93f45611afbf"
      },
      "outputs": [
        {
          "data": {
            "text/plain": [
              "array([[[ 1,  7],\n",
              "        [ 2,  8],\n",
              "        [ 3,  9]],\n",
              "\n",
              "       [[ 4, 10],\n",
              "        [ 5, 11],\n",
              "        [ 7, 12]]])"
            ]
          },
          "execution_count": 19,
          "metadata": {},
          "output_type": "execute_result"
        }
      ],
      "source": [
        "a = np.array([\n",
        "              [1,2, 3],\n",
        "              [4,5, 7]\n",
        "])\n",
        "b = np.array([\n",
        "              [7,8,9],\n",
        "              [10, 11, 12]\n",
        "])\n",
        "\n",
        "np.dstack([a,b])"
      ]
    },
    {
      "cell_type": "code",
      "execution_count": 46,
      "metadata": {
        "colab": {
          "base_uri": "https://localhost:8080/"
        },
        "id": "QpTty4l_ZSDy",
        "outputId": "0de77f1b-ade6-416c-f386-a28c82ccab03"
      },
      "outputs": [
        {
          "name": "stdout",
          "output_type": "stream",
          "text": [
            "[10000     2     3     4]\n",
            "[ 1  2  3  4 10 20 30]\n"
          ]
        }
      ],
      "source": [
        "ar = np.array([1,2,3,4])\n",
        "\n",
        "ar2 = np.append(ar, np.array([10, 20, 30]))\n",
        "\n",
        "ar[0] = 10000\n",
        "\n",
        "print(ar)\n",
        "print(ar2)"
      ]
    },
    {
      "cell_type": "code",
      "execution_count": 73,
      "metadata": {
        "colab": {
          "base_uri": "https://localhost:8080/"
        },
        "id": "EHIZ6GHmci6t",
        "outputId": "7ec4915a-b5ee-4b2e-87c9-8e7d876264b7"
      },
      "outputs": [
        {
          "data": {
            "text/plain": [
              "array([5, 4, 7, 9, 0, 2, 1, 8, 6, 3])"
            ]
          },
          "execution_count": 73,
          "metadata": {},
          "output_type": "execute_result"
        }
      ],
      "source": [
        "ar = np.random.permutation(np.arange(10))\n",
        "ar"
      ]
    },
    {
      "cell_type": "code",
      "execution_count": 78,
      "metadata": {
        "id": "JP4KcXVUcpwv"
      },
      "outputs": [],
      "source": [
        "a, b, c, d = np.split(ar, [2, 7, 1])"
      ]
    },
    {
      "cell_type": "code",
      "execution_count": 79,
      "metadata": {
        "colab": {
          "base_uri": "https://localhost:8080/"
        },
        "id": "CVtBdWcNd_mK",
        "outputId": "e82144da-c52d-4582-9a0f-51cb32b7d1d9"
      },
      "outputs": [
        {
          "data": {
            "text/plain": [
              "(array([5, 4]),\n",
              " array([7, 9, 0, 2, 1]),\n",
              " array([], dtype=int64),\n",
              " array([4, 7, 9, 0, 2, 1, 8, 6, 3]))"
            ]
          },
          "execution_count": 79,
          "metadata": {},
          "output_type": "execute_result"
        }
      ],
      "source": [
        "a, b, c, d"
      ]
    },
    {
      "cell_type": "code",
      "execution_count": 88,
      "metadata": {
        "colab": {
          "base_uri": "https://localhost:8080/"
        },
        "id": "W7xXN5IOehhx",
        "outputId": "668c5a9f-074c-4a4d-e288-f794595610bc"
      },
      "outputs": [
        {
          "data": {
            "text/plain": [
              "array([4, 7, 9, 0, 2, 1, 8, 6, 3])"
            ]
          },
          "execution_count": 88,
          "metadata": {},
          "output_type": "execute_result"
        }
      ],
      "source": [
        "ar[1:]"
      ]
    },
    {
      "cell_type": "markdown",
      "metadata": {
        "id": "J0p3QyB0aYfz"
      },
      "source": [
        "# max Dimension"
      ]
    },
    {
      "cell_type": "code",
      "execution_count": 62,
      "metadata": {
        "id": "kz7YwA7zaXx5"
      },
      "outputs": [],
      "source": [
        "l = [1] * 33\n",
        "t = tuple(l)"
      ]
    },
    {
      "cell_type": "code",
      "execution_count": 63,
      "metadata": {
        "colab": {
          "base_uri": "https://localhost:8080/",
          "height": 287
        },
        "id": "YYwuVXv9adTd",
        "outputId": "687a45c1-5cc4-4a08-c46b-7bd54790f0b8"
      },
      "outputs": [
        {
          "ename": "ValueError",
          "evalue": "ignored",
          "output_type": "error",
          "traceback": [
            "\u001b[0;31m---------------------------------------------------------------------------\u001b[0m",
            "\u001b[0;31mValueError\u001b[0m                                Traceback (most recent call last)",
            "\u001b[0;32m<ipython-input-63-e9a4ab48a497>\u001b[0m in \u001b[0;36m<module>\u001b[0;34m()\u001b[0m\n\u001b[0;32m----> 1\u001b[0;31m \u001b[0mnp\u001b[0m\u001b[0;34m.\u001b[0m\u001b[0mones\u001b[0m\u001b[0;34m(\u001b[0m\u001b[0mt\u001b[0m\u001b[0;34m)\u001b[0m\u001b[0;34m.\u001b[0m\u001b[0mndim\u001b[0m\u001b[0;34m\u001b[0m\u001b[0;34m\u001b[0m\u001b[0m\n\u001b[0m",
            "\u001b[0;32m/usr/local/lib/python3.7/dist-packages/numpy/core/numeric.py\u001b[0m in \u001b[0;36mones\u001b[0;34m(shape, dtype, order)\u001b[0m\n\u001b[1;32m    190\u001b[0m \u001b[0;34m\u001b[0m\u001b[0m\n\u001b[1;32m    191\u001b[0m     \"\"\"\n\u001b[0;32m--> 192\u001b[0;31m     \u001b[0ma\u001b[0m \u001b[0;34m=\u001b[0m \u001b[0mempty\u001b[0m\u001b[0;34m(\u001b[0m\u001b[0mshape\u001b[0m\u001b[0;34m,\u001b[0m \u001b[0mdtype\u001b[0m\u001b[0;34m,\u001b[0m \u001b[0morder\u001b[0m\u001b[0;34m)\u001b[0m\u001b[0;34m\u001b[0m\u001b[0;34m\u001b[0m\u001b[0m\n\u001b[0m\u001b[1;32m    193\u001b[0m     \u001b[0mmultiarray\u001b[0m\u001b[0;34m.\u001b[0m\u001b[0mcopyto\u001b[0m\u001b[0;34m(\u001b[0m\u001b[0ma\u001b[0m\u001b[0;34m,\u001b[0m \u001b[0;36m1\u001b[0m\u001b[0;34m,\u001b[0m \u001b[0mcasting\u001b[0m\u001b[0;34m=\u001b[0m\u001b[0;34m'unsafe'\u001b[0m\u001b[0;34m)\u001b[0m\u001b[0;34m\u001b[0m\u001b[0;34m\u001b[0m\u001b[0m\n\u001b[1;32m    194\u001b[0m     \u001b[0;32mreturn\u001b[0m \u001b[0ma\u001b[0m\u001b[0;34m\u001b[0m\u001b[0;34m\u001b[0m\u001b[0m\n",
            "\u001b[0;31mValueError\u001b[0m: maximum supported dimension for an ndarray is 32, found 33"
          ]
        }
      ],
      "source": [
        "np.ones(t).ndim"
      ]
    }
  ],
  "metadata": {
    "colab": {
      "authorship_tag": "ABX9TyNN51Dc5+X7S748U9yg0v1O",
      "collapsed_sections": [
        "zqiWr8z_HRPG"
      ],
      "include_colab_link": true,
      "name": "numpy class.ipynb",
      "provenance": [],
      "toc_visible": true
    },
    "kernelspec": {
      "display_name": "Python 3",
      "name": "python3"
    },
    "language_info": {
      "name": "python",
      "version": "3.8.12"
    }
  },
  "nbformat": 4,
  "nbformat_minor": 0
}
