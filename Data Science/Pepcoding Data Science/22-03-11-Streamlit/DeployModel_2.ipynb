{
  "nbformat": 4,
  "nbformat_minor": 0,
  "metadata": {
    "colab": {
      "name": "DeployModel_2.ipynb",
      "provenance": [],
      "authorship_tag": "ABX9TyONlb28Xp5YUVgx07lKsHUn",
      "include_colab_link": true
    },
    "kernelspec": {
      "name": "python3",
      "display_name": "Python 3"
    },
    "language_info": {
      "name": "python"
    }
  },
  "cells": [
    {
      "cell_type": "markdown",
      "metadata": {
        "id": "view-in-github",
        "colab_type": "text"
      },
      "source": [
        "<a href=\"https://colab.research.google.com/github/Pepcoders/Data-Science-December/blob/main/22-03-11-Streamlit/DeployModel_2.ipynb\" target=\"_parent\"><img src=\"https://colab.research.google.com/assets/colab-badge.svg\" alt=\"Open In Colab\"/></a>"
      ]
    },
    {
      "cell_type": "code",
      "execution_count": null,
      "metadata": {
        "id": "F0x9HP_xHPIg"
      },
      "outputs": [],
      "source": [
        "!pip install streamlit"
      ]
    },
    {
      "cell_type": "code",
      "source": [
        "%%writefile app.py\n",
        "\n",
        "import streamlit as st\n",
        "import numpy as np\n",
        "import pandas as pd\n",
        "\n",
        "# # title \n",
        "# st.title(\"we will learn\")\n",
        "\n",
        "# # header\n",
        "# st.header('Header')\n",
        "\n",
        "# # subheader\n",
        "# st.subheader(\"subheader\")\n",
        "\n",
        "# # text\n",
        "# st.text(\"text\")\n",
        "# st.write('write')\n",
        "\n",
        "# name = st.text_input(\"enter your name \")\n",
        "# st.write(name)\n",
        "\n",
        "# number = st.number_input('Enter your age ')\n",
        "# st.write(number)\n",
        "\n",
        "# df=np.random.randn(20, 3)\n",
        "# # magic\n",
        "# df1 = pd.DataFrame(\n",
        "#     np.random.randn(20, 3),\n",
        "#     columns=['A', 'B', 'C']\n",
        "# )\n",
        "# # df\n",
        "# st.table(df)\n",
        "\n",
        "# st.dataframe(df1.style.highlight_max(axis=0))\n",
        "\n",
        "# # graph\n",
        "# df = pd.DataFrame(\n",
        "#     np.random.randn(20, 3),\n",
        "#     columns=['A', 'B', 'C']\n",
        "# )\n",
        "\n",
        "\n",
        "# # line_chart\n",
        "# st.line_chart(df)\n",
        "\n",
        "\n",
        "# # bar_chart\n",
        "# st.bar_chart(df)\n",
        "\n",
        "\n",
        "# # map\n",
        "# st.map()\n",
        "\n",
        "\n",
        "# img = st.file_uploader('upload your file')\n",
        "# st.image(img)\n",
        "\n",
        "url = 'https://www.github.com'\n",
        "st.write(\"check out this [github](https://www.github.com)\")\n",
        "\n",
        "number = st.selectbox(\"Select your lucky nunmber\", [1, 2, 3, 4, 5, 6])\n",
        "st.write(number)\n",
        "\n",
        "df = pd.DataFrame(\n",
        "    np.random.randn(20, 3),\n",
        "    columns=['A', 'B', 'C']\n",
        ")\n",
        "\n",
        "# checkbox\n",
        "checked = st.checkbox('checkbox')\n",
        "if checked:\n",
        "  st.table(df)\n",
        "  \n",
        "\n",
        "\n",
        "# multiselect\n",
        "fist = st.multiselect('selcts your options', [x for x in range(10, 20)])\n",
        "# st.write(fist)\n",
        "\n",
        "# st.balloons()\n",
        "\n",
        "\n",
        "# sidebar\n",
        "st.sidebar.selectbox('How would like to connect ', ['Home', 'Email', 'Mobile Number'])\n",
        "\n",
        "df1 = pd.DataFrame({\n",
        "    \"Number\": [x for x in range(1, 10)],\n",
        "    \"Square\" :[x*x for x in range(1, 10)],\n",
        "    \"cube\":[x*x*x for x in range(1, 10)],\n",
        "    \"add10\":[x+10 for x in range(1, 10)]\n",
        "})\n",
        "# df1\n",
        "\n",
        "import matplotlib.pyplot as plt\n",
        "# st.balloons()\n",
        "plt.style.use('ggplot')\n",
        "col = st.sidebar.selectbox(\"choose your columns\", df1.columns)\n",
        "plt.plot(df1['Number'], df1[col])\n",
        "st.pyplot()\n",
        "\n",
        "\n",
        "\n",
        "# import streamlit as st\n",
        "option = st.radio('Select three known variables:', ['initial velocity (u)', 'final velocity (v)', 'acceleration (a)', 'time (t)'])\n",
        "\n",
        "st.slider('Pick a Value', 5, 20, 7)\n",
        "st.slider('Pick a Range', 5, 20, (7, 10))\n",
        "\n",
        "import time\n",
        "\n",
        "status = st.empty()\n",
        "bar =  st.progress(0)\n",
        "for i in range(1):\n",
        "    status.text('Current Iteration {}'.format(i+1))\n",
        "    bar.progress(i+1)\n",
        "    time.sleep(0.2)\n",
        "\n",
        "st.error('Error')\n",
        "st.success('Success')\n",
        "st.info('Info')\n",
        "st.exception(RuntimeError('This is custom error'))\n",
        "st.warning('Warning')"
      ],
      "metadata": {
        "colab": {
          "base_uri": "https://localhost:8080/"
        },
        "id": "W5IDM1rWHTTi",
        "outputId": "9fc22b12-d0c3-44c3-d604-e2baec85981e"
      },
      "execution_count": 37,
      "outputs": [
        {
          "output_type": "stream",
          "name": "stdout",
          "text": [
            "Overwriting app.py\n"
          ]
        }
      ]
    },
    {
      "cell_type": "code",
      "source": [
        "%%writefile app.py\n",
        "\n",
        "import numpy as np\n",
        "from sklearn.linear_model import LinearRegression\n",
        "import streamlit as st\n",
        "import matplotlib.pyplot as plt\n",
        "\n",
        "x = np.arange(10) # age\n",
        "y = np.linspace(90, 200, x.size) # weight\n",
        "x = x.reshape(-1, 1)\n",
        "\n",
        "st.write(str(x.shape) +\", \" + str(y.shape))\n",
        "\n",
        "model = LinearRegression()\n",
        "model.fit(x, y)\n",
        "\n",
        "number = st.number_input('Enter your age ')\n",
        "pred = model.predict([[number]])\n",
        "st.write(\"Your weight is {}\".format(pred[0]))\n",
        "\n",
        "# fig, ax = plt.subplot()\n",
        "# ax.scatter(x[:, 0], y)\n",
        "\n",
        "# st.pyplot(fig)"
      ],
      "metadata": {
        "colab": {
          "base_uri": "https://localhost:8080/"
        },
        "id": "Rw__wFMvjD8k",
        "outputId": "71ec76db-13ca-4524-996f-637aca00b57a"
      },
      "execution_count": 44,
      "outputs": [
        {
          "output_type": "stream",
          "name": "stdout",
          "text": [
            "Overwriting app.py\n"
          ]
        }
      ]
    },
    {
      "cell_type": "code",
      "source": [
        "import numpy as np\n",
        "from sklearn.linear_model import LinearRegression\n",
        "import matplotlib.pyplot as plt\n",
        "\n",
        "x = np.arange(10)\n",
        "y = np.linspace(90, 200, x.size)\n",
        "x = x.reshape(-1, 1)\n",
        "\n",
        "print(x.shape, y.shape)\n",
        "\n",
        "model = LinearRegression()\n",
        "model.fit(x, y)\n",
        "model.predict(x)\n",
        "plt.scatter(x[:, 0], y)"
      ],
      "metadata": {
        "colab": {
          "base_uri": "https://localhost:8080/",
          "height": 300
        },
        "id": "ykqulN2djSed",
        "outputId": "ff3fca60-3651-4bc8-c9d9-6e288d5efe07"
      },
      "execution_count": 43,
      "outputs": [
        {
          "output_type": "stream",
          "name": "stdout",
          "text": [
            "(10, 1) (10,)\n"
          ]
        },
        {
          "output_type": "execute_result",
          "data": {
            "text/plain": [
              "<matplotlib.collections.PathCollection at 0x7f8957ed02d0>"
            ]
          },
          "metadata": {},
          "execution_count": 43
        },
        {
          "output_type": "display_data",
          "data": {
            "text/plain": [
              "<Figure size 432x288 with 1 Axes>"
            ],
            "image/png": "[encoded data removed]"
          },
          "metadata": {
            "needs_background": "light"
          }
        }
      ]
    },
    {
      "cell_type": "code",
      "source": [
        "!streamlit run app.py --server.port 5301 &> tmp.out &"
      ],
      "metadata": {
        "id": "eAIuiefWHe4b"
      },
      "execution_count": 9,
      "outputs": []
    },
    {
      "cell_type": "code",
      "source": [
        "!npx localtunnel --port 5301 &> url.out &"
      ],
      "metadata": {
        "id": "L1W9kKZxIUqH"
      },
      "execution_count": 10,
      "outputs": []
    },
    {
      "cell_type": "code",
      "source": [
        ""
      ],
      "metadata": {
        "id": "UhQlU950IlAn"
      },
      "execution_count": null,
      "outputs": []
    }
  ]
}